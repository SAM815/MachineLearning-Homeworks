{
 "cells": [
  {
   "cell_type": "markdown",
   "id": "49f00298",
   "metadata": {},
   "source": [
    "## Homework 5 Part B"
   ]
  },
  {
   "cell_type": "code",
   "execution_count": 1,
   "id": "188f04c8",
   "metadata": {},
   "outputs": [],
   "source": [
    "from sklearn.tree import DecisionTreeClassifier\n",
    "from sklearn.ensemble import RandomForestClassifier\n",
    "from sklearn.ensemble import VotingClassifier\n",
    "from sklearn.linear_model import LogisticRegression\n",
    "from sklearn.svm import SVC\n",
    "from sklearn.ensemble import BaggingClassifier\n",
    "from sklearn.tree import DecisionTreeClassifier\n",
    "from sklearn.metrics import accuracy_score\n",
    "from sklearn.ensemble import VotingClassifier\n",
    "import numpy as np"
   ]
  },
  {
   "cell_type": "code",
   "execution_count": 2,
   "id": "78aa5b64",
   "metadata": {},
   "outputs": [],
   "source": [
    "# Here we will import the dataset"
   ]
  },
  {
   "cell_type": "code",
   "execution_count": 3,
   "id": "9fbdaedf",
   "metadata": {},
   "outputs": [],
   "source": [
    "from sklearn.datasets import fetch_openml\n",
    "mnist = fetch_openml('mnist_784', version=1)"
   ]
  },
  {
   "cell_type": "code",
   "execution_count": 5,
   "id": "d8349e8e",
   "metadata": {},
   "outputs": [
    {
     "data": {
      "text/plain": [
       "(70000, 784)"
      ]
     },
     "execution_count": 5,
     "metadata": {},
     "output_type": "execute_result"
    }
   ],
   "source": [
    "mnist.data.shape"
   ]
  },
  {
   "cell_type": "code",
   "execution_count": 6,
   "id": "89141147",
   "metadata": {},
   "outputs": [
    {
     "data": {
      "text/html": [
       "<div>\n",
       "<style scoped>\n",
       "    .dataframe tbody tr th:only-of-type {\n",
       "        vertical-align: middle;\n",
       "    }\n",
       "\n",
       "    .dataframe tbody tr th {\n",
       "        vertical-align: top;\n",
       "    }\n",
       "\n",
       "    .dataframe thead th {\n",
       "        text-align: right;\n",
       "    }\n",
       "</style>\n",
       "<table border=\"1\" class=\"dataframe\">\n",
       "  <thead>\n",
       "    <tr style=\"text-align: right;\">\n",
       "      <th></th>\n",
       "      <th>pixel1</th>\n",
       "      <th>pixel2</th>\n",
       "      <th>pixel3</th>\n",
       "      <th>pixel4</th>\n",
       "      <th>pixel5</th>\n",
       "      <th>pixel6</th>\n",
       "      <th>pixel7</th>\n",
       "      <th>pixel8</th>\n",
       "      <th>pixel9</th>\n",
       "      <th>pixel10</th>\n",
       "      <th>...</th>\n",
       "      <th>pixel775</th>\n",
       "      <th>pixel776</th>\n",
       "      <th>pixel777</th>\n",
       "      <th>pixel778</th>\n",
       "      <th>pixel779</th>\n",
       "      <th>pixel780</th>\n",
       "      <th>pixel781</th>\n",
       "      <th>pixel782</th>\n",
       "      <th>pixel783</th>\n",
       "      <th>pixel784</th>\n",
       "    </tr>\n",
       "  </thead>\n",
       "  <tbody>\n",
       "    <tr>\n",
       "      <th>0</th>\n",
       "      <td>0.0</td>\n",
       "      <td>0.0</td>\n",
       "      <td>0.0</td>\n",
       "      <td>0.0</td>\n",
       "      <td>0.0</td>\n",
       "      <td>0.0</td>\n",
       "      <td>0.0</td>\n",
       "      <td>0.0</td>\n",
       "      <td>0.0</td>\n",
       "      <td>0.0</td>\n",
       "      <td>...</td>\n",
       "      <td>0.0</td>\n",
       "      <td>0.0</td>\n",
       "      <td>0.0</td>\n",
       "      <td>0.0</td>\n",
       "      <td>0.0</td>\n",
       "      <td>0.0</td>\n",
       "      <td>0.0</td>\n",
       "      <td>0.0</td>\n",
       "      <td>0.0</td>\n",
       "      <td>0.0</td>\n",
       "    </tr>\n",
       "    <tr>\n",
       "      <th>1</th>\n",
       "      <td>0.0</td>\n",
       "      <td>0.0</td>\n",
       "      <td>0.0</td>\n",
       "      <td>0.0</td>\n",
       "      <td>0.0</td>\n",
       "      <td>0.0</td>\n",
       "      <td>0.0</td>\n",
       "      <td>0.0</td>\n",
       "      <td>0.0</td>\n",
       "      <td>0.0</td>\n",
       "      <td>...</td>\n",
       "      <td>0.0</td>\n",
       "      <td>0.0</td>\n",
       "      <td>0.0</td>\n",
       "      <td>0.0</td>\n",
       "      <td>0.0</td>\n",
       "      <td>0.0</td>\n",
       "      <td>0.0</td>\n",
       "      <td>0.0</td>\n",
       "      <td>0.0</td>\n",
       "      <td>0.0</td>\n",
       "    </tr>\n",
       "    <tr>\n",
       "      <th>2</th>\n",
       "      <td>0.0</td>\n",
       "      <td>0.0</td>\n",
       "      <td>0.0</td>\n",
       "      <td>0.0</td>\n",
       "      <td>0.0</td>\n",
       "      <td>0.0</td>\n",
       "      <td>0.0</td>\n",
       "      <td>0.0</td>\n",
       "      <td>0.0</td>\n",
       "      <td>0.0</td>\n",
       "      <td>...</td>\n",
       "      <td>0.0</td>\n",
       "      <td>0.0</td>\n",
       "      <td>0.0</td>\n",
       "      <td>0.0</td>\n",
       "      <td>0.0</td>\n",
       "      <td>0.0</td>\n",
       "      <td>0.0</td>\n",
       "      <td>0.0</td>\n",
       "      <td>0.0</td>\n",
       "      <td>0.0</td>\n",
       "    </tr>\n",
       "    <tr>\n",
       "      <th>3</th>\n",
       "      <td>0.0</td>\n",
       "      <td>0.0</td>\n",
       "      <td>0.0</td>\n",
       "      <td>0.0</td>\n",
       "      <td>0.0</td>\n",
       "      <td>0.0</td>\n",
       "      <td>0.0</td>\n",
       "      <td>0.0</td>\n",
       "      <td>0.0</td>\n",
       "      <td>0.0</td>\n",
       "      <td>...</td>\n",
       "      <td>0.0</td>\n",
       "      <td>0.0</td>\n",
       "      <td>0.0</td>\n",
       "      <td>0.0</td>\n",
       "      <td>0.0</td>\n",
       "      <td>0.0</td>\n",
       "      <td>0.0</td>\n",
       "      <td>0.0</td>\n",
       "      <td>0.0</td>\n",
       "      <td>0.0</td>\n",
       "    </tr>\n",
       "    <tr>\n",
       "      <th>4</th>\n",
       "      <td>0.0</td>\n",
       "      <td>0.0</td>\n",
       "      <td>0.0</td>\n",
       "      <td>0.0</td>\n",
       "      <td>0.0</td>\n",
       "      <td>0.0</td>\n",
       "      <td>0.0</td>\n",
       "      <td>0.0</td>\n",
       "      <td>0.0</td>\n",
       "      <td>0.0</td>\n",
       "      <td>...</td>\n",
       "      <td>0.0</td>\n",
       "      <td>0.0</td>\n",
       "      <td>0.0</td>\n",
       "      <td>0.0</td>\n",
       "      <td>0.0</td>\n",
       "      <td>0.0</td>\n",
       "      <td>0.0</td>\n",
       "      <td>0.0</td>\n",
       "      <td>0.0</td>\n",
       "      <td>0.0</td>\n",
       "    </tr>\n",
       "  </tbody>\n",
       "</table>\n",
       "<p>5 rows × 784 columns</p>\n",
       "</div>"
      ],
      "text/plain": [
       "   pixel1  pixel2  pixel3  pixel4  pixel5  pixel6  pixel7  pixel8  pixel9  \\\n",
       "0     0.0     0.0     0.0     0.0     0.0     0.0     0.0     0.0     0.0   \n",
       "1     0.0     0.0     0.0     0.0     0.0     0.0     0.0     0.0     0.0   \n",
       "2     0.0     0.0     0.0     0.0     0.0     0.0     0.0     0.0     0.0   \n",
       "3     0.0     0.0     0.0     0.0     0.0     0.0     0.0     0.0     0.0   \n",
       "4     0.0     0.0     0.0     0.0     0.0     0.0     0.0     0.0     0.0   \n",
       "\n",
       "   pixel10  ...  pixel775  pixel776  pixel777  pixel778  pixel779  pixel780  \\\n",
       "0      0.0  ...       0.0       0.0       0.0       0.0       0.0       0.0   \n",
       "1      0.0  ...       0.0       0.0       0.0       0.0       0.0       0.0   \n",
       "2      0.0  ...       0.0       0.0       0.0       0.0       0.0       0.0   \n",
       "3      0.0  ...       0.0       0.0       0.0       0.0       0.0       0.0   \n",
       "4      0.0  ...       0.0       0.0       0.0       0.0       0.0       0.0   \n",
       "\n",
       "   pixel781  pixel782  pixel783  pixel784  \n",
       "0       0.0       0.0       0.0       0.0  \n",
       "1       0.0       0.0       0.0       0.0  \n",
       "2       0.0       0.0       0.0       0.0  \n",
       "3       0.0       0.0       0.0       0.0  \n",
       "4       0.0       0.0       0.0       0.0  \n",
       "\n",
       "[5 rows x 784 columns]"
      ]
     },
     "execution_count": 6,
     "metadata": {},
     "output_type": "execute_result"
    }
   ],
   "source": [
    "mnist.data.head()"
   ]
  },
  {
   "cell_type": "markdown",
   "id": "34523e94",
   "metadata": {},
   "source": [
    "### 1. Split the dataset into a training, validation, and test set using the ratio 5 : 1 : 1."
   ]
  },
  {
   "cell_type": "code",
   "execution_count": 10,
   "id": "f318b99e",
   "metadata": {},
   "outputs": [],
   "source": [
    "from sklearn.model_selection import train_test_split\n",
    "\n",
    "X = mnist['data']\n",
    "y = mnist['target']\n",
    "\n",
    "X_train, X_val_test, y_train, y_val_test = train_test_split(X, y, train_size=5/7, random_state=42)\n",
    "\n",
    "X_val, X_test, y_val, y_test = train_test_split(X_val_test, y_val_test,train_size=1/2, random_state=42)\n",
    "\n",
    "\n"
   ]
  },
  {
   "cell_type": "code",
   "execution_count": 11,
   "id": "2023ff01",
   "metadata": {},
   "outputs": [
    {
     "name": "stdout",
     "output_type": "stream",
     "text": [
      "(50000, 784) (10000, 784) (10000, 784)\n"
     ]
    }
   ],
   "source": [
    "print(X_train.shape, X_val.shape, X_test.shape)"
   ]
  },
  {
   "cell_type": "code",
   "execution_count": 12,
   "id": "378b7f79",
   "metadata": {},
   "outputs": [
    {
     "name": "stdout",
     "output_type": "stream",
     "text": [
      "(50000,) (10000,) (10000,)\n"
     ]
    }
   ],
   "source": [
    "print(y_train.shape, y_val.shape, y_test.shape)"
   ]
  },
  {
   "cell_type": "markdown",
   "id": "90faaf8c",
   "metadata": {},
   "source": [
    "### 2. Next, train the following classifiers:"
   ]
  },
  {
   "cell_type": "markdown",
   "id": "dbaa4680",
   "metadata": {},
   "source": [
    "##### a. Random Forest Classifier"
   ]
  },
  {
   "cell_type": "code",
   "execution_count": 26,
   "id": "398181dc",
   "metadata": {},
   "outputs": [
    {
     "data": {
      "text/plain": [
       "RandomForestClassifier(random_state=42)"
      ]
     },
     "execution_count": 26,
     "metadata": {},
     "output_type": "execute_result"
    }
   ],
   "source": [
    "random_forest_classifier = RandomForestClassifier(random_state=42)\n",
    "random_forest_classifier.fit(X_train, y_train)"
   ]
  },
  {
   "cell_type": "code",
   "execution_count": 27,
   "id": "0d21ae2b",
   "metadata": {},
   "outputs": [
    {
     "name": "stdout",
     "output_type": "stream",
     "text": [
      "Value Accuracy for Random Forest Classifier is:  0.9677\n"
     ]
    }
   ],
   "source": [
    "y_val_prediction = random_forest_classifier.predict(X_val)\n",
    "validation_accuracy = accuracy_score(y_val, y_val_prediction)\n",
    "validation_accuracy\n",
    "print(\"Value Accuracy for Random Forest Classifier is: \", validation_accuracy)"
   ]
  },
  {
   "cell_type": "markdown",
   "id": "34297fdd",
   "metadata": {},
   "source": [
    "##### b. Bagging Classifier"
   ]
  },
  {
   "cell_type": "code",
   "execution_count": 28,
   "id": "d11a3fa0",
   "metadata": {},
   "outputs": [
    {
     "data": {
      "text/plain": [
       "BaggingClassifier(base_estimator=DecisionTreeClassifier(random_state=42),\n",
       "                  max_samples=100, n_estimators=500, random_state=42)"
      ]
     },
     "execution_count": 28,
     "metadata": {},
     "output_type": "execute_result"
    }
   ],
   "source": [
    "bagging_classifier = BaggingClassifier(\n",
    "    DecisionTreeClassifier(random_state=42),\n",
    "    n_estimators=500,\n",
    "    max_samples=100,\n",
    "    bootstrap=True,\n",
    "    random_state=42)\n",
    "bagging_classifier.fit(X_train, y_train)"
   ]
  },
  {
   "cell_type": "code",
   "execution_count": 29,
   "id": "dbac78a2",
   "metadata": {},
   "outputs": [
    {
     "name": "stdout",
     "output_type": "stream",
     "text": [
      "Value Accuracy for Bagging Classifier:  0.8394\n"
     ]
    }
   ],
   "source": [
    "y_val_prediction = bagging_classifier.predict(X_val)\n",
    "validation_accuracy = accuracy_score(y_val, y_val_prediction)\n",
    "validation_accuracy\n",
    "print(\"Value Accuracy for Bagging Classifier: \", validation_accuracy)"
   ]
  },
  {
   "cell_type": "markdown",
   "id": "dae080be",
   "metadata": {},
   "source": [
    "##### c. Decision Tree Classifier"
   ]
  },
  {
   "cell_type": "code",
   "execution_count": 30,
   "id": "15c89efc",
   "metadata": {},
   "outputs": [
    {
     "data": {
      "text/plain": [
       "DecisionTreeClassifier(random_state=42)"
      ]
     },
     "execution_count": 30,
     "metadata": {},
     "output_type": "execute_result"
    }
   ],
   "source": [
    "decision_tree_classifier = DecisionTreeClassifier(random_state=42)\n",
    "decision_tree_classifier.fit(X_train, y_train)"
   ]
  },
  {
   "cell_type": "code",
   "execution_count": 31,
   "id": "b6d9a00d",
   "metadata": {},
   "outputs": [
    {
     "name": "stdout",
     "output_type": "stream",
     "text": [
      "Value Accuracy for Bagging Classifier:  0.8714\n"
     ]
    }
   ],
   "source": [
    "y_val_prediction = decision_tree_classifier.predict(X_val)\n",
    "validation_accuracy = accuracy_score(y_val, y_val_prediction)\n",
    "validation_accuracy\n",
    "print(\"Value Accuracy for Bagging Classifier: \", validation_accuracy)"
   ]
  },
  {
   "cell_type": "markdown",
   "id": "bdf08867",
   "metadata": {},
   "source": [
    "### 3. Obtain the top ten variable importance ranking from Decision tree and Random Forest classifier. Please interpret the results."
   ]
  },
  {
   "cell_type": "code",
   "execution_count": 32,
   "id": "8ecd73d1",
   "metadata": {},
   "outputs": [],
   "source": [
    "decision_tree_importances = decision_tree_classifier.feature_importances_\n",
    "random_forest_importances = random_forest_classifier.feature_importances_\n",
    "\n",
    "decision_tree_importances = np.argsort(decision_tree_importances)[::-1][:10]\n",
    "random_forest_importances = np.argsort(random_forest_importances)[::-1][:10]\n",
    "                                                      \n",
    "\n"
   ]
  },
  {
   "cell_type": "code",
   "execution_count": 33,
   "id": "1a1f6b6c",
   "metadata": {},
   "outputs": [
    {
     "name": "stdout",
     "output_type": "stream",
     "text": [
      "Decision Tree Top 10 Features: [489 435 350 347 542 211 486 432 597 271]\n"
     ]
    }
   ],
   "source": [
    "print(\"Decision Tree Top 10 Features:\", decision_tree_importances)"
   ]
  },
  {
   "cell_type": "code",
   "execution_count": 34,
   "id": "fbb3c04a",
   "metadata": {},
   "outputs": [
    {
     "name": "stdout",
     "output_type": "stream",
     "text": [
      "Random Forest Top 10 Features: [378 405 461 434 401 433 406 409 542 375]\n"
     ]
    }
   ],
   "source": [
    "print(\"Random Forest Top 10 Features:\", random_forest_importances)"
   ]
  },
  {
   "cell_type": "markdown",
   "id": "c4a9e458",
   "metadata": {},
   "source": [
    "The Decision Tree's decision-making is significantly impacted by the pixels at indices 489, 435, 350, 347, 542, 211, 486, 432, 597, and 271. These particular pixels play a crucial role in distinguishing between the digits in the MNIST dataset. Their importance in the model suggests that changes at these pixel positions are highly influential in identifying the digit.\n",
    "\n",
    "The Random Forest model highlights the pixels at indices 378, 405, 461, 434, 401, 433, 406, 409, 542, and 375 as the most influential. These pixel locations on the 28x28 grid are consistently significant across various decision trees within the forest. The repeated importance of pixel 542 in both models underscores its unique significance."
   ]
  },
  {
   "cell_type": "markdown",
   "id": "3aaffc25",
   "metadata": {},
   "source": [
    "### 4. Combine three classifiers in Part 2 into an ensemble on the validation set using hard voting."
   ]
  },
  {
   "cell_type": "code",
   "execution_count": 35,
   "id": "6203cdce",
   "metadata": {},
   "outputs": [],
   "source": [
    "voting_clf = VotingClassifier(\n",
    "    estimators=[\n",
    "        ('rf', random_forest_classifier),\n",
    "        ('bagging', bagging_classifier),\n",
    "        ('dt', decision_tree_classifier)\n",
    "    ],\n",
    "    voting='hard'\n",
    ")\n",
    "\n",
    "voting_clf.fit(X_train, y_train)\n",
    "\n",
    "y_val_prediction = voting_clf.predict(X_val)\n",
    "validation_accuracy = accuracy_score(y_val, y_val_prediction)\n"
   ]
  },
  {
   "cell_type": "code",
   "execution_count": 36,
   "id": "f24125f7",
   "metadata": {},
   "outputs": [
    {
     "name": "stdout",
     "output_type": "stream",
     "text": [
      "The Validation Accuracy: 0.9334\n"
     ]
    }
   ],
   "source": [
    "print(f\"The Validation Accuracy: {validation_accuracy}\")"
   ]
  },
  {
   "cell_type": "markdown",
   "id": "bb898772",
   "metadata": {},
   "source": [
    "### 5. Does the ensemble outperform the individual classifiers?"
   ]
  },
  {
   "cell_type": "markdown",
   "id": "cb318016",
   "metadata": {},
   "source": [
    "Random Forest Classifier: 0.9677\n",
    "Bagging Classifier: 0.8394\n",
    "Decision Tree Classifier: 0.8714\n",
    "Ensemble Classifier: 0.9334"
   ]
  },
  {
   "cell_type": "markdown",
   "id": "ef8cf141",
   "metadata": {},
   "source": [
    "The ensemble classifier falls short of surpassing the Random Forest classifier, which achieves the highest accuracy among the individual models. Nevertheless, the ensemble outperforms both the Bagging and Decision Tree classifiers when assessed separately."
   ]
  },
  {
   "cell_type": "markdown",
   "id": "db0059b5",
   "metadata": {},
   "source": [
    "### 6. Next, remove the individual classifier with the smallest accuracy score.\n",
    " "
   ]
  },
  {
   "cell_type": "markdown",
   "id": "b31424a3",
   "metadata": {},
   "source": [
    "The classifier with the lowest accuracy is the Bagging classifier (BG) has the lowest accuracy with an accuracy of 0.8394.\n",
    "Therefore, we can remove this."
   ]
  },
  {
   "cell_type": "markdown",
   "id": "2a4ba0dd",
   "metadata": {},
   "source": [
    "### 7. Now combine the classifiers into an ensemble on the test data using hard voting."
   ]
  },
  {
   "cell_type": "code",
   "execution_count": 37,
   "id": "a0011bd8",
   "metadata": {},
   "outputs": [
    {
     "name": "stdout",
     "output_type": "stream",
     "text": [
      "Revised Validation Accuracy: 0.9174\n"
     ]
    }
   ],
   "source": [
    "revised_voting_classifier = VotingClassifier(\n",
    "    estimators= [\n",
    "        ('rf', random_forest_classifier),\n",
    "        ('dt', decision_tree_classifier)\n",
    "    ],\n",
    "    voting='hard'\n",
    "\n",
    ")\n",
    "\n",
    "revised_voting_classifier.fit(X_train, y_train)\n",
    "\n",
    "y_val_prediction_revised = revised_voting_classifier.predict(X_val)\n",
    "validation_accuracy_revised = accuracy_score(y_val, y_val_prediction_revised)\n",
    "print(f\"Revised Validation Accuracy: {validation_accuracy_revised}\")"
   ]
  },
  {
   "cell_type": "markdown",
   "id": "10d4e2c3",
   "metadata": {},
   "source": [
    "### 8. How much better does it perform compared to the individual classifiers? Comment on your results."
   ]
  },
  {
   "cell_type": "markdown",
   "id": "f75be822",
   "metadata": {},
   "source": [
    "The revised ensemble does not outperform the Random Forest classifier. Random Forest Classifier remains the best\n",
    "performing model with an accuracy of 0.9677. Thus, we can conclude that the Random Forest classifier’s\n",
    " strong individual performance is not significantly enhanced by combining it with the Decision Tree\n",
    " classifier."
   ]
  },
  {
   "cell_type": "code",
   "execution_count": null,
   "id": "f7ea4219",
   "metadata": {},
   "outputs": [],
   "source": []
  },
  {
   "cell_type": "code",
   "execution_count": null,
   "id": "47613636",
   "metadata": {},
   "outputs": [],
   "source": []
  }
 ],
 "metadata": {
  "kernelspec": {
   "display_name": "Python 3 (ipykernel)",
   "language": "python",
   "name": "python3"
  },
  "language_info": {
   "codemirror_mode": {
    "name": "ipython",
    "version": 3
   },
   "file_extension": ".py",
   "mimetype": "text/x-python",
   "name": "python",
   "nbconvert_exporter": "python",
   "pygments_lexer": "ipython3",
   "version": "3.9.13"
  }
 },
 "nbformat": 4,
 "nbformat_minor": 5
}
