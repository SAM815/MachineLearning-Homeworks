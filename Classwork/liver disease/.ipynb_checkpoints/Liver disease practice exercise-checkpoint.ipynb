{
 "cells": [
  {
   "cell_type": "code",
   "execution_count": 1,
   "id": "1f4efc24",
   "metadata": {},
   "outputs": [],
   "source": [
    "#import\n",
    "import pandas as pd\n",
    "import numpy as np\n"
   ]
  },
  {
   "cell_type": "code",
   "execution_count": 2,
   "id": "198b0797",
   "metadata": {},
   "outputs": [
    {
     "name": "stdout",
     "output_type": "stream",
     "text": [
      "Dataset Dimensions: (583, 11)\n",
      "   age  gender    TB   DB  alkphos  sgpt  sgot   TP  alb  AGratio  liver\n",
      "0   65  Female   0.7  0.1      187    16    18  6.8  3.3     0.90      1\n",
      "1   62    Male  10.9  5.5      699    64   100  7.5  3.2     0.74      1\n",
      "2   62    Male   7.3  4.1      490    60    68  7.0  3.3     0.89      1\n",
      "3   58    Male   1.0  0.4      182    14    20  6.8  3.4     1.00      1\n",
      "4   72    Male   3.9  2.0      195    27    59  7.3  2.4     0.40      1\n"
     ]
    }
   ],
   "source": [
    "#Load the dataset\n",
    "ILPD = pd.read_csv(\"Indian Liver Patient Dataset (ILPD).csv\", header=None, names=[\n",
    "    \"age\", \"gender\", \"TB\", \"DB\", \"alkphos\", \"sgpt\", \"sgot\", \"TP\", \"alb\", \"AGratio\", \"liver\"\n",
    "])\n",
    "\n",
    "print(\"Dataset Dimensions:\", ILPD.shape)\n",
    "print(ILPD.head())"
   ]
  },
  {
   "cell_type": "code",
   "execution_count": 4,
   "id": "469f704b",
   "metadata": {},
   "outputs": [
    {
     "name": "stdout",
     "output_type": "stream",
     "text": [
      "age        0\n",
      "gender     0\n",
      "TB         0\n",
      "DB         0\n",
      "alkphos    0\n",
      "sgpt       0\n",
      "sgot       0\n",
      "TP         0\n",
      "alb        0\n",
      "AGratio    4\n",
      "liver      0\n",
      "dtype: int64\n"
     ]
    }
   ],
   "source": [
    "#check for missing values\n",
    "print(ILPD.isnull().sum())"
   ]
  },
  {
   "cell_type": "code",
   "execution_count": 5,
   "id": "cfca2487",
   "metadata": {},
   "outputs": [],
   "source": [
    "# Drop rows with missing \"AGratio\" values\n",
    "ILPD.dropna(subset=['AGratio'], inplace=True)\n"
   ]
  },
  {
   "cell_type": "code",
   "execution_count": 6,
   "id": "fa654c71",
   "metadata": {},
   "outputs": [
    {
     "name": "stdout",
     "output_type": "stream",
     "text": [
      "age        0\n",
      "gender     0\n",
      "TB         0\n",
      "DB         0\n",
      "alkphos    0\n",
      "sgpt       0\n",
      "sgot       0\n",
      "TP         0\n",
      "alb        0\n",
      "AGratio    0\n",
      "liver      0\n",
      "dtype: int64\n"
     ]
    }
   ],
   "source": [
    "print(ILPD.isnull().sum())\n"
   ]
  },
  {
   "cell_type": "code",
   "execution_count": 8,
   "id": "139bc71b",
   "metadata": {},
   "outputs": [
    {
     "name": "stdout",
     "output_type": "stream",
     "text": [
      "0   NaN\n",
      "1   NaN\n",
      "2   NaN\n",
      "3   NaN\n",
      "4   NaN\n",
      "Name: gender, dtype: float64\n"
     ]
    }
   ],
   "source": [
    "##encode gender column as numeric\n",
    "ILPD[\"gender\"] = ILPD['gender'].map({'Male':1, 'Female': 0})\n",
    "print(ILPD['gender'].head())"
   ]
  },
  {
   "cell_type": "code",
   "execution_count": null,
   "id": "62e20f85",
   "metadata": {},
   "outputs": [],
   "source": []
  }
 ],
 "metadata": {
  "kernelspec": {
   "display_name": "Python 3 (ipykernel)",
   "language": "python",
   "name": "python3"
  },
  "language_info": {
   "codemirror_mode": {
    "name": "ipython",
    "version": 3
   },
   "file_extension": ".py",
   "mimetype": "text/x-python",
   "name": "python",
   "nbconvert_exporter": "python",
   "pygments_lexer": "ipython3",
   "version": "3.9.13"
  }
 },
 "nbformat": 4,
 "nbformat_minor": 5
}
