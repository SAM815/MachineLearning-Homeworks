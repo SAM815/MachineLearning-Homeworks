{
 "cells": [
  {
   "cell_type": "markdown",
   "id": "f1ce2118",
   "metadata": {},
   "source": [
    "## Part A"
   ]
  },
  {
   "cell_type": "markdown",
   "id": "86b41601",
   "metadata": {},
   "source": [
    "### Question 1:"
   ]
  },
  {
   "cell_type": "markdown",
   "id": "485a6eb6",
   "metadata": {},
   "source": [
    "The model is overfitted if it performs well on the training data but generalizes poorly to new instances.It means the model has memorized the training data instead of understanding the pattern. "
   ]
  },
  {
   "cell_type": "markdown",
   "id": "6927baf7",
   "metadata": {},
   "source": [
    "Two possible solutions to solve this problem are:"
   ]
  },
  {
   "cell_type": "markdown",
   "id": "80b5edd2",
   "metadata": {},
   "source": [
    "(i) Cross-validation: \n",
    "    Cross-validation is a technique used to estimate the test error of a statistical learning method, helping assess its performance and determine the optimal level of model flexibility. In this approach, the dataset is divided into multiple folds. The model is repeatedly trained on some of these folds and validated on others, ensuring consistent performance across different subsets of the dataset.\n",
    "    \n",
    "(ii) Regularization: This approach involves fitting a model with all predictors, but the estimated coefficients are shrunk towards zero compared to the least squares estimates. This technique reduces variance by adding a penalty for model complexity, which helps minimize overfitting."
   ]
  },
  {
   "cell_type": "markdown",
   "id": "8edfb586",
   "metadata": {},
   "source": [
    "### Question 2:"
   ]
  },
  {
   "cell_type": "markdown",
   "id": "d598aea8",
   "metadata": {},
   "source": [
    "\\begin{align}\n",
    "N_1 &= 5 \\\\\n",
    "N_2 &= \\left(\\frac{200}{5}\\right) \\times (5 - 1) = 40 \\times 4 = 160 \\\\\n",
    "N_3 &= \\frac{200}{5} = 40\n",
    "\\end{align}"
   ]
  },
  {
   "cell_type": "markdown",
   "id": "0348dda1",
   "metadata": {},
   "source": [
    "### Question 3"
   ]
  },
  {
   "cell_type": "markdown",
   "id": "b3af6377",
   "metadata": {},
   "source": [
    "\\begin{align}\n",
    "\\text{TP} &= 970 \\\\\n",
    "\\text{FN} &= 25 \\\\\n",
    "\\text{TN} &= \\text{I5} \\\\\n",
    "\\text{FP} &= 10 \\\\\n",
    "\\text{Total} &= \\text{TP} + \\text{FN} + \\text{TN} + \\text{FP} = 1020\n",
    "\\end{align}\n"
   ]
  },
  {
   "cell_type": "markdown",
   "id": "73d239ba",
   "metadata": {},
   "source": [
    "#### (a)"
   ]
  },
  {
   "cell_type": "markdown",
   "id": "8f68b8c6",
   "metadata": {},
   "source": [
    "\\begin{align}\n",
    "\\text{Accuracy} &= \\frac{\\text{TP} + \\text{TN}}{\\text{Total}} = \\frac{970 + 15}{1020} = 0.9657 \\\\\n",
    "\\text{Accuracy} &= 96.57\\%\n",
    "\\end{align}"
   ]
  },
  {
   "cell_type": "markdown",
   "id": "4c99db69",
   "metadata": {},
   "source": [
    "#### (b)"
   ]
  },
  {
   "cell_type": "markdown",
   "id": "1ef3b488",
   "metadata": {},
   "source": [
    "\\begin{align}\n",
    "\\text{Majority-Class Baseline Accuracy} &= \\frac{\\text{TP} + \\text{FN}}{\\text{Total}} = \\frac{970 + 25}{1020} = \\frac{995}{1020} = 0.9755 \\\\\n",
    "\\text{Majority-Class Baseline Accuracy} &= 97.55\\%\n",
    "\\end{align}\n"
   ]
  },
  {
   "cell_type": "markdown",
   "id": "d6e64bfb",
   "metadata": {},
   "source": [
    "#### (c)"
   ]
  },
  {
   "cell_type": "markdown",
   "id": "b7cbf69b",
   "metadata": {},
   "source": [
    "The classifier has a lower accuracy than the majority class baseline, which might suggest it is less effective than simply predicting the majority class. However, since the dataset is imbalanced, accuracy alone is not a sufficient metric to judge the model's performance. We should also consider other metrics, such as precision and recall. By comparing these additional metrics, we can better assess the model's usefulness relative to the baseline."
   ]
  },
  {
   "cell_type": "markdown",
   "id": "df58a2b8",
   "metadata": {},
   "source": [
    "#### (d)"
   ]
  },
  {
   "cell_type": "markdown",
   "id": "02e3b289",
   "metadata": {},
   "source": [
    "\\begin{align}\n",
    "\\text{Precision} &= \\frac{\\text{TP}}{\\text{TP} + \\text{FP}} = \\frac{970}{970 + 10} = 0.9898 \\\\\n",
    "\\text{Precision} &= 98.98\\%\n",
    "\\end{align}\n"
   ]
  },
  {
   "cell_type": "markdown",
   "id": "1d6deb28",
   "metadata": {},
   "source": [
    "#### (e)"
   ]
  },
  {
   "cell_type": "markdown",
   "id": "a3bc668e",
   "metadata": {},
   "source": [
    "\\begin{align}\n",
    "\\text{Recall} &= \\frac{\\text{TP}}{\\text{TP} + \\text{FN}} = \\frac{970}{970 + 25} = \\frac{970}{995} = 0.9749 \\\\\n",
    "\\text{Recall} &= 97.49\\%\n",
    "\\end{align}\n"
   ]
  },
  {
   "cell_type": "markdown",
   "id": "d7e7f52b",
   "metadata": {},
   "source": [
    "#### (f)"
   ]
  },
  {
   "cell_type": "markdown",
   "id": "da0ae64a",
   "metadata": {},
   "source": [
    "\\begin{align}\n",
    "\\text{F1-Score} &= 2 \\times \\frac{\\text{Precision} \\times \\text{Recall}}{\\text{Precision} + \\text{Recall}} = 2 \\times \\frac{0.9898 \\times 0.9749}{0.9898 + 0.9749} = 0.9823 \\\\\n",
    "\\text{F1-Score} &= 98.23\\%\n",
    "\\end{align}\n"
   ]
  },
  {
   "cell_type": "markdown",
   "id": "497c61e5",
   "metadata": {},
   "source": [
    "## Part B"
   ]
  },
  {
   "cell_type": "code",
   "execution_count": 62,
   "id": "5b3f93a8",
   "metadata": {},
   "outputs": [],
   "source": [
    "#importing necessary modules\n",
    "import pandas as pd\n",
    "from sklearn.model_selection import train_test_split\n",
    "from sklearn.preprocessing import StandardScaler\n",
    "from sklearn.neighbors import KNeighborsClassifier\n",
    "from sklearn.linear_model import SGDClassifier\n",
    "from sklearn.metrics import precision_score, recall_score, f1_score,confusion_matrix\n",
    "import warnings\n",
    "warnings.filterwarnings(\"ignore\", category=FutureWarning)"
   ]
  },
  {
   "cell_type": "markdown",
   "id": "1042d8a8",
   "metadata": {},
   "source": [
    "##### 1. Understanding the Dataset: Given the provided datasets (as CSV files), load them and answer the following questions."
   ]
  },
  {
   "cell_type": "markdown",
   "id": "58cb6714",
   "metadata": {},
   "source": [
    "##### (a) What is the dimension of the datasets"
   ]
  },
  {
   "cell_type": "code",
   "execution_count": 50,
   "id": "ea0541bf",
   "metadata": {},
   "outputs": [
    {
     "data": {
      "text/html": [
       "<div>\n",
       "<style scoped>\n",
       "    .dataframe tbody tr th:only-of-type {\n",
       "        vertical-align: middle;\n",
       "    }\n",
       "\n",
       "    .dataframe tbody tr th {\n",
       "        vertical-align: top;\n",
       "    }\n",
       "\n",
       "    .dataframe thead th {\n",
       "        text-align: right;\n",
       "    }\n",
       "</style>\n",
       "<table border=\"1\" class=\"dataframe\">\n",
       "  <thead>\n",
       "    <tr style=\"text-align: right;\">\n",
       "      <th></th>\n",
       "      <th>Unnamed: 0</th>\n",
       "      <th>MOSTYPE</th>\n",
       "      <th>MAANTHUI</th>\n",
       "      <th>MGEMOMV</th>\n",
       "      <th>MGEMLEEF</th>\n",
       "      <th>MOSHOOFD</th>\n",
       "      <th>MGODRK</th>\n",
       "      <th>MGODPR</th>\n",
       "      <th>MGODOV</th>\n",
       "      <th>MGODGE</th>\n",
       "      <th>...</th>\n",
       "      <th>APERSONG</th>\n",
       "      <th>AGEZONG</th>\n",
       "      <th>AWAOREG</th>\n",
       "      <th>ABRAND</th>\n",
       "      <th>AZEILPL</th>\n",
       "      <th>APLEZIER</th>\n",
       "      <th>AFIETS</th>\n",
       "      <th>AINBOED</th>\n",
       "      <th>ABYSTAND</th>\n",
       "      <th>Purchase</th>\n",
       "    </tr>\n",
       "  </thead>\n",
       "  <tbody>\n",
       "    <tr>\n",
       "      <th>0</th>\n",
       "      <td>1</td>\n",
       "      <td>33</td>\n",
       "      <td>1</td>\n",
       "      <td>3</td>\n",
       "      <td>2</td>\n",
       "      <td>8</td>\n",
       "      <td>0</td>\n",
       "      <td>5</td>\n",
       "      <td>1</td>\n",
       "      <td>3</td>\n",
       "      <td>...</td>\n",
       "      <td>0</td>\n",
       "      <td>0</td>\n",
       "      <td>0</td>\n",
       "      <td>1</td>\n",
       "      <td>0</td>\n",
       "      <td>0</td>\n",
       "      <td>0</td>\n",
       "      <td>0</td>\n",
       "      <td>0</td>\n",
       "      <td>No</td>\n",
       "    </tr>\n",
       "    <tr>\n",
       "      <th>1</th>\n",
       "      <td>2</td>\n",
       "      <td>37</td>\n",
       "      <td>1</td>\n",
       "      <td>2</td>\n",
       "      <td>2</td>\n",
       "      <td>8</td>\n",
       "      <td>1</td>\n",
       "      <td>4</td>\n",
       "      <td>1</td>\n",
       "      <td>4</td>\n",
       "      <td>...</td>\n",
       "      <td>0</td>\n",
       "      <td>0</td>\n",
       "      <td>0</td>\n",
       "      <td>1</td>\n",
       "      <td>0</td>\n",
       "      <td>0</td>\n",
       "      <td>0</td>\n",
       "      <td>0</td>\n",
       "      <td>0</td>\n",
       "      <td>No</td>\n",
       "    </tr>\n",
       "    <tr>\n",
       "      <th>2</th>\n",
       "      <td>3</td>\n",
       "      <td>37</td>\n",
       "      <td>1</td>\n",
       "      <td>2</td>\n",
       "      <td>2</td>\n",
       "      <td>8</td>\n",
       "      <td>0</td>\n",
       "      <td>4</td>\n",
       "      <td>2</td>\n",
       "      <td>4</td>\n",
       "      <td>...</td>\n",
       "      <td>0</td>\n",
       "      <td>0</td>\n",
       "      <td>0</td>\n",
       "      <td>1</td>\n",
       "      <td>0</td>\n",
       "      <td>0</td>\n",
       "      <td>0</td>\n",
       "      <td>0</td>\n",
       "      <td>0</td>\n",
       "      <td>No</td>\n",
       "    </tr>\n",
       "    <tr>\n",
       "      <th>3</th>\n",
       "      <td>4</td>\n",
       "      <td>9</td>\n",
       "      <td>1</td>\n",
       "      <td>3</td>\n",
       "      <td>3</td>\n",
       "      <td>3</td>\n",
       "      <td>2</td>\n",
       "      <td>3</td>\n",
       "      <td>2</td>\n",
       "      <td>4</td>\n",
       "      <td>...</td>\n",
       "      <td>0</td>\n",
       "      <td>0</td>\n",
       "      <td>0</td>\n",
       "      <td>1</td>\n",
       "      <td>0</td>\n",
       "      <td>0</td>\n",
       "      <td>0</td>\n",
       "      <td>0</td>\n",
       "      <td>0</td>\n",
       "      <td>No</td>\n",
       "    </tr>\n",
       "    <tr>\n",
       "      <th>4</th>\n",
       "      <td>5</td>\n",
       "      <td>40</td>\n",
       "      <td>1</td>\n",
       "      <td>4</td>\n",
       "      <td>2</td>\n",
       "      <td>10</td>\n",
       "      <td>1</td>\n",
       "      <td>4</td>\n",
       "      <td>1</td>\n",
       "      <td>4</td>\n",
       "      <td>...</td>\n",
       "      <td>0</td>\n",
       "      <td>0</td>\n",
       "      <td>0</td>\n",
       "      <td>1</td>\n",
       "      <td>0</td>\n",
       "      <td>0</td>\n",
       "      <td>0</td>\n",
       "      <td>0</td>\n",
       "      <td>0</td>\n",
       "      <td>No</td>\n",
       "    </tr>\n",
       "    <tr>\n",
       "      <th>5</th>\n",
       "      <td>6</td>\n",
       "      <td>23</td>\n",
       "      <td>1</td>\n",
       "      <td>2</td>\n",
       "      <td>1</td>\n",
       "      <td>5</td>\n",
       "      <td>0</td>\n",
       "      <td>5</td>\n",
       "      <td>0</td>\n",
       "      <td>5</td>\n",
       "      <td>...</td>\n",
       "      <td>0</td>\n",
       "      <td>0</td>\n",
       "      <td>0</td>\n",
       "      <td>0</td>\n",
       "      <td>0</td>\n",
       "      <td>0</td>\n",
       "      <td>0</td>\n",
       "      <td>0</td>\n",
       "      <td>0</td>\n",
       "      <td>No</td>\n",
       "    </tr>\n",
       "    <tr>\n",
       "      <th>6</th>\n",
       "      <td>7</td>\n",
       "      <td>39</td>\n",
       "      <td>2</td>\n",
       "      <td>3</td>\n",
       "      <td>2</td>\n",
       "      <td>9</td>\n",
       "      <td>2</td>\n",
       "      <td>2</td>\n",
       "      <td>0</td>\n",
       "      <td>5</td>\n",
       "      <td>...</td>\n",
       "      <td>0</td>\n",
       "      <td>0</td>\n",
       "      <td>0</td>\n",
       "      <td>0</td>\n",
       "      <td>0</td>\n",
       "      <td>0</td>\n",
       "      <td>0</td>\n",
       "      <td>0</td>\n",
       "      <td>0</td>\n",
       "      <td>No</td>\n",
       "    </tr>\n",
       "    <tr>\n",
       "      <th>7</th>\n",
       "      <td>8</td>\n",
       "      <td>33</td>\n",
       "      <td>1</td>\n",
       "      <td>2</td>\n",
       "      <td>3</td>\n",
       "      <td>8</td>\n",
       "      <td>0</td>\n",
       "      <td>7</td>\n",
       "      <td>0</td>\n",
       "      <td>2</td>\n",
       "      <td>...</td>\n",
       "      <td>0</td>\n",
       "      <td>0</td>\n",
       "      <td>0</td>\n",
       "      <td>0</td>\n",
       "      <td>0</td>\n",
       "      <td>0</td>\n",
       "      <td>0</td>\n",
       "      <td>0</td>\n",
       "      <td>0</td>\n",
       "      <td>No</td>\n",
       "    </tr>\n",
       "    <tr>\n",
       "      <th>8</th>\n",
       "      <td>9</td>\n",
       "      <td>33</td>\n",
       "      <td>1</td>\n",
       "      <td>2</td>\n",
       "      <td>4</td>\n",
       "      <td>8</td>\n",
       "      <td>0</td>\n",
       "      <td>1</td>\n",
       "      <td>3</td>\n",
       "      <td>6</td>\n",
       "      <td>...</td>\n",
       "      <td>0</td>\n",
       "      <td>0</td>\n",
       "      <td>0</td>\n",
       "      <td>0</td>\n",
       "      <td>0</td>\n",
       "      <td>0</td>\n",
       "      <td>0</td>\n",
       "      <td>0</td>\n",
       "      <td>0</td>\n",
       "      <td>No</td>\n",
       "    </tr>\n",
       "    <tr>\n",
       "      <th>9</th>\n",
       "      <td>10</td>\n",
       "      <td>11</td>\n",
       "      <td>2</td>\n",
       "      <td>3</td>\n",
       "      <td>3</td>\n",
       "      <td>3</td>\n",
       "      <td>3</td>\n",
       "      <td>5</td>\n",
       "      <td>0</td>\n",
       "      <td>2</td>\n",
       "      <td>...</td>\n",
       "      <td>0</td>\n",
       "      <td>0</td>\n",
       "      <td>0</td>\n",
       "      <td>1</td>\n",
       "      <td>0</td>\n",
       "      <td>0</td>\n",
       "      <td>0</td>\n",
       "      <td>0</td>\n",
       "      <td>0</td>\n",
       "      <td>No</td>\n",
       "    </tr>\n",
       "  </tbody>\n",
       "</table>\n",
       "<p>10 rows × 87 columns</p>\n",
       "</div>"
      ],
      "text/plain": [
       "   Unnamed: 0  MOSTYPE  MAANTHUI  MGEMOMV  MGEMLEEF  MOSHOOFD  MGODRK  MGODPR  \\\n",
       "0           1       33         1        3         2         8       0       5   \n",
       "1           2       37         1        2         2         8       1       4   \n",
       "2           3       37         1        2         2         8       0       4   \n",
       "3           4        9         1        3         3         3       2       3   \n",
       "4           5       40         1        4         2        10       1       4   \n",
       "5           6       23         1        2         1         5       0       5   \n",
       "6           7       39         2        3         2         9       2       2   \n",
       "7           8       33         1        2         3         8       0       7   \n",
       "8           9       33         1        2         4         8       0       1   \n",
       "9          10       11         2        3         3         3       3       5   \n",
       "\n",
       "   MGODOV  MGODGE  ...  APERSONG  AGEZONG  AWAOREG  ABRAND  AZEILPL  APLEZIER  \\\n",
       "0       1       3  ...         0        0        0       1        0         0   \n",
       "1       1       4  ...         0        0        0       1        0         0   \n",
       "2       2       4  ...         0        0        0       1        0         0   \n",
       "3       2       4  ...         0        0        0       1        0         0   \n",
       "4       1       4  ...         0        0        0       1        0         0   \n",
       "5       0       5  ...         0        0        0       0        0         0   \n",
       "6       0       5  ...         0        0        0       0        0         0   \n",
       "7       0       2  ...         0        0        0       0        0         0   \n",
       "8       3       6  ...         0        0        0       0        0         0   \n",
       "9       0       2  ...         0        0        0       1        0         0   \n",
       "\n",
       "   AFIETS  AINBOED  ABYSTAND  Purchase  \n",
       "0       0        0         0        No  \n",
       "1       0        0         0        No  \n",
       "2       0        0         0        No  \n",
       "3       0        0         0        No  \n",
       "4       0        0         0        No  \n",
       "5       0        0         0        No  \n",
       "6       0        0         0        No  \n",
       "7       0        0         0        No  \n",
       "8       0        0         0        No  \n",
       "9       0        0         0        No  \n",
       "\n",
       "[10 rows x 87 columns]"
      ]
     },
     "execution_count": 50,
     "metadata": {},
     "output_type": "execute_result"
    }
   ],
   "source": [
    "caravan = pd.read_csv(\"Caravan.csv\")\n",
    "caravan.head(10)\n"
   ]
  },
  {
   "cell_type": "code",
   "execution_count": 51,
   "id": "d86f3a6e",
   "metadata": {},
   "outputs": [
    {
     "data": {
      "text/plain": [
       "(5822, 87)"
      ]
     },
     "execution_count": 51,
     "metadata": {},
     "output_type": "execute_result"
    }
   ],
   "source": [
    "caravan.shape"
   ]
  },
  {
   "cell_type": "markdown",
   "id": "5ea5d893",
   "metadata": {},
   "source": [
    "The dimension of the dataset is (5822, 87)"
   ]
  },
  {
   "cell_type": "markdown",
   "id": "22b6fdb0",
   "metadata": {},
   "source": [
    "##### (b) How many predictors measure demographic characteristics?"
   ]
  },
  {
   "cell_type": "code",
   "execution_count": 52,
   "id": "5d0507ea",
   "metadata": {},
   "outputs": [
    {
     "name": "stdout",
     "output_type": "stream",
     "text": [
      "43\n"
     ]
    }
   ],
   "source": [
    "predictors_count = sum(caravan.columns.str.startswith('M'))\n",
    "print(predictors_count)"
   ]
  },
  {
   "cell_type": "markdown",
   "id": "72c4b68e",
   "metadata": {},
   "source": [
    "It seems 43 predictors meausure demographic chatacteristics"
   ]
  },
  {
   "cell_type": "markdown",
   "id": "52bc3b18",
   "metadata": {},
   "source": [
    "##### (c) What is the percentage of people who purchased caravan insurance?"
   ]
  },
  {
   "cell_type": "code",
   "execution_count": 53,
   "id": "329d84fd",
   "metadata": {},
   "outputs": [
    {
     "name": "stdout",
     "output_type": "stream",
     "text": [
      "5.98\n"
     ]
    }
   ],
   "source": [
    "total_caravan_records = len(caravan)\n",
    "total_caravan_purchase = (caravan['Purchase'] == 'Yes').sum()\n",
    "print(round((total_caravan_purchase / total_caravan_records) * 100, 2))"
   ]
  },
  {
   "cell_type": "markdown",
   "id": "d48d2822",
   "metadata": {},
   "source": [
    "5.98% of the people purchased caravan insurance"
   ]
  },
  {
   "cell_type": "markdown",
   "id": "b4c7c7d9",
   "metadata": {},
   "source": [
    "#### 2. Data preprocessing: Standardize the data matrix X, giving all variables a mean of zero and a standard deviation of one. In standardizing the datasets, exclude the response variable."
   ]
  },
  {
   "cell_type": "code",
   "execution_count": 54,
   "id": "983cf552",
   "metadata": {},
   "outputs": [],
   "source": [
    "X = caravan.drop(['Purchase', 'Unnamed: 0'], axis=1) \n",
    "# Dropping 'Unnamed:␣0' as it seems to be an index"
   ]
  },
  {
   "cell_type": "code",
   "execution_count": 55,
   "id": "cc8ac124",
   "metadata": {},
   "outputs": [
    {
     "data": {
      "text/plain": [
       "(MOSTYPE     24.253349\n",
       " MAANTHUI     1.110615\n",
       " MGEMOMV      2.678805\n",
       " MGEMLEEF     2.991240\n",
       " MOSHOOFD     5.773617\n",
       "               ...    \n",
       " AZEILPL      0.000515\n",
       " APLEZIER     0.006012\n",
       " AFIETS       0.031776\n",
       " AINBOED      0.007901\n",
       " ABYSTAND     0.014256\n",
       " Length: 85, dtype: float64,\n",
       " MOSTYPE     12.846706\n",
       " MAANTHUI     0.405842\n",
       " MGEMOMV      0.789835\n",
       " MGEMLEEF     0.814589\n",
       " MOSHOOFD     2.856760\n",
       "               ...    \n",
       " AZEILPL      0.022696\n",
       " APLEZIER     0.081632\n",
       " AFIETS       0.210986\n",
       " AINBOED      0.090463\n",
       " ABYSTAND     0.119996\n",
       " Length: 85, dtype: float64)"
      ]
     },
     "execution_count": 55,
     "metadata": {},
     "output_type": "execute_result"
    }
   ],
   "source": [
    "mean_values = X.mean()\n",
    "standard_devs = X.std()\n",
    "(mean_values, standard_devs)\n"
   ]
  },
  {
   "cell_type": "code",
   "execution_count": 56,
   "id": "c8e92496",
   "metadata": {},
   "outputs": [
    {
     "data": {
      "text/plain": [
       "(MOSTYPE    -0.0\n",
       " MAANTHUI   -0.0\n",
       " MGEMOMV     0.0\n",
       " MGEMLEEF    0.0\n",
       " MOSHOOFD    0.0\n",
       "            ... \n",
       " AZEILPL    -0.0\n",
       " APLEZIER   -0.0\n",
       " AFIETS     -0.0\n",
       " AINBOED     0.0\n",
       " ABYSTAND   -0.0\n",
       " Length: 85, dtype: float64,\n",
       " MOSTYPE     1.0\n",
       " MAANTHUI    1.0\n",
       " MGEMOMV     1.0\n",
       " MGEMLEEF    1.0\n",
       " MOSHOOFD    1.0\n",
       "            ... \n",
       " AZEILPL     1.0\n",
       " APLEZIER    1.0\n",
       " AFIETS      1.0\n",
       " AINBOED     1.0\n",
       " ABYSTAND    1.0\n",
       " Length: 85, dtype: float64)"
      ]
     },
     "execution_count": 56,
     "metadata": {},
     "output_type": "execute_result"
    }
   ],
   "source": [
    "scaler = StandardScaler()\n",
    "X_scaled = scaler.fit_transform(X)\n",
    "X_scaled_df = pd.DataFrame(X_scaled, columns=X.columns)\n",
    "mean_values = X_scaled_df.mean().round(2)\n",
    "standard_devs = X_scaled_df.std().round(2)\n",
    "(mean_values, standard_devs)\n"
   ]
  },
  {
   "cell_type": "markdown",
   "id": "f82c8874",
   "metadata": {},
   "source": [
    "#### 3. Split the datasets into a test set containing the first 1,000 observations and a training set, including the remaining observations.\n"
   ]
  },
  {
   "cell_type": "code",
   "execution_count": 57,
   "id": "4f86eabc",
   "metadata": {},
   "outputs": [],
   "source": [
    "y_value = caravan[\"Purchase\"]\n",
    "X_test, X_train, y_test, y_train = X_scaled_df[:1000], X_scaled_df[1000:], y_value[:1000], y_value[1000:]\n"
   ]
  },
  {
   "cell_type": "markdown",
   "id": "71b08b70",
   "metadata": {},
   "source": [
    "###### (a) How many observations are in each set?"
   ]
  },
  {
   "cell_type": "code",
   "execution_count": 58,
   "id": "43250f48",
   "metadata": {},
   "outputs": [
    {
     "data": {
      "text/plain": [
       "(4822, 1000)"
      ]
     },
     "execution_count": 58,
     "metadata": {},
     "output_type": "execute_result"
    }
   ],
   "source": [
    "test_observations = len(X_test)\n",
    "train_observations = len(X_train)\n",
    "(train_observations, test_observations)\n"
   ]
  },
  {
   "cell_type": "markdown",
   "id": "76a9b61c",
   "metadata": {},
   "source": [
    "There are 4822 observations in training set and 1000 observations in testing set."
   ]
  },
  {
   "cell_type": "markdown",
   "id": "67a3dfb4",
   "metadata": {},
   "source": [
    "##### (b) How many customers purchased insurance in each set?"
   ]
  },
  {
   "cell_type": "code",
   "execution_count": 59,
   "id": "3fb8ce92",
   "metadata": {},
   "outputs": [
    {
     "data": {
      "text/plain": [
       "(289, 59)"
      ]
     },
     "execution_count": 59,
     "metadata": {},
     "output_type": "execute_result"
    }
   ],
   "source": [
    "purchased_insurance_in_test = (y_test == \"Yes\").sum()\n",
    "purchased_insurance_in_train = (y_train == \"Yes\").sum()\n",
    "(purchased_insurance_in_train, purchased_insurance_in_test)\n"
   ]
  },
  {
   "cell_type": "markdown",
   "id": "ac04cbf6",
   "metadata": {},
   "source": [
    "Therefore, 289 customers purchased in training set whereas 59 purchased in testing set."
   ]
  },
  {
   "cell_type": "markdown",
   "id": "bf811f21",
   "metadata": {},
   "source": [
    "#### 4. Binary Classifier: KNN and SGD classifiers"
   ]
  },
  {
   "cell_type": "markdown",
   "id": "9b1b8e17",
   "metadata": {},
   "source": [
    "##### (a) Apply the K-Nearest Neighbors (KNN) classifier to the caravan dataset. Choose the values K = 1, 3, and 5, and for each K, compute the precision and recall. Please comment on the precision."
   ]
  },
  {
   "cell_type": "markdown",
   "id": "26707cec",
   "metadata": {},
   "source": [
    "(i) K = 1"
   ]
  },
  {
   "cell_type": "code",
   "execution_count": 63,
   "id": "6f51fd60",
   "metadata": {},
   "outputs": [],
   "source": [
    "knn = KNeighborsClassifier(n_neighbors=1)\n",
    "knn.fit(X_train, y_train)\n",
    "y_pred = knn.predict(X_test)\n"
   ]
  },
  {
   "cell_type": "code",
   "execution_count": 28,
   "id": "2a80f1b0",
   "metadata": {},
   "outputs": [
    {
     "data": {
      "text/plain": [
       "0.11688311688311688"
      ]
     },
     "execution_count": 28,
     "metadata": {},
     "output_type": "execute_result"
    }
   ],
   "source": [
    "precision = precision_score(y_test, y_pred, pos_label='Yes')\n",
    "precision\n"
   ]
  },
  {
   "cell_type": "code",
   "execution_count": 30,
   "id": "c78f2b32",
   "metadata": {},
   "outputs": [
    {
     "data": {
      "text/plain": [
       "0.15254237288135594"
      ]
     },
     "execution_count": 30,
     "metadata": {},
     "output_type": "execute_result"
    }
   ],
   "source": [
    "recall = recall_score(y_test, y_pred, pos_label='Yes')\n",
    "recall\n"
   ]
  },
  {
   "cell_type": "markdown",
   "id": "e466188d",
   "metadata": {},
   "source": [
    "(ii) K = 3"
   ]
  },
  {
   "cell_type": "code",
   "execution_count": 64,
   "id": "d8bae71b",
   "metadata": {},
   "outputs": [],
   "source": [
    "knn = KNeighborsClassifier(n_neighbors=3)\n",
    "knn.fit(X_train, y_train)\n",
    "y_pred = knn.predict(X_test)\n"
   ]
  },
  {
   "cell_type": "code",
   "execution_count": 34,
   "id": "6699d8ed",
   "metadata": {},
   "outputs": [
    {
     "data": {
      "text/plain": [
       "0.2"
      ]
     },
     "execution_count": 34,
     "metadata": {},
     "output_type": "execute_result"
    }
   ],
   "source": [
    "precision = precision_score(y_test, y_pred, pos_label='Yes')\n",
    "precision\n"
   ]
  },
  {
   "cell_type": "code",
   "execution_count": 35,
   "id": "4f5f4666",
   "metadata": {},
   "outputs": [
    {
     "data": {
      "text/plain": [
       "0.0847457627118644"
      ]
     },
     "execution_count": 35,
     "metadata": {},
     "output_type": "execute_result"
    }
   ],
   "source": [
    "recall = recall_score(y_test, y_pred, pos_label='Yes')\n",
    "recall\n"
   ]
  },
  {
   "cell_type": "markdown",
   "id": "037452fd",
   "metadata": {},
   "source": [
    "(iii) K = 5"
   ]
  },
  {
   "cell_type": "code",
   "execution_count": 65,
   "id": "1fae5fec",
   "metadata": {},
   "outputs": [],
   "source": [
    "knn = KNeighborsClassifier(n_neighbors=5)\n",
    "knn.fit(X_train, y_train)\n",
    "y_pred = knn.predict(X_test)"
   ]
  },
  {
   "cell_type": "code",
   "execution_count": 37,
   "id": "5065a03a",
   "metadata": {},
   "outputs": [
    {
     "data": {
      "text/plain": [
       "0.26666666666666666"
      ]
     },
     "execution_count": 37,
     "metadata": {},
     "output_type": "execute_result"
    }
   ],
   "source": [
    "precision = precision_score(y_test, y_pred, pos_label='Yes')\n",
    "precision"
   ]
  },
  {
   "cell_type": "code",
   "execution_count": 38,
   "id": "776e0251",
   "metadata": {},
   "outputs": [
    {
     "data": {
      "text/plain": [
       "0.06779661016949153"
      ]
     },
     "execution_count": 38,
     "metadata": {},
     "output_type": "execute_result"
    }
   ],
   "source": [
    "recall = recall_score(y_test, y_pred, pos_label='Yes')\n",
    "recall\n"
   ]
  },
  {
   "cell_type": "code",
   "execution_count": 39,
   "id": "1bcea80f",
   "metadata": {},
   "outputs": [
    {
     "data": {
      "text/plain": [
       "0.10810810810810811"
      ]
     },
     "execution_count": 39,
     "metadata": {},
     "output_type": "execute_result"
    }
   ],
   "source": [
    "f1score = f1_score(y_test, y_pred, pos_label='Yes')\n",
    "f1score\n"
   ]
  },
  {
   "cell_type": "markdown",
   "id": "620ecef0",
   "metadata": {},
   "source": [
    "As we can see from the calculations above, the precision has increased when the value of k increases from 1 to 5."
   ]
  },
  {
   "cell_type": "markdown",
   "id": "01f5df7a",
   "metadata": {},
   "source": [
    "##### (b) Next, apply the Stochastic Gradient Descent (SGD) classifier on the caravan dataset. Compute the precision and recall. Set random seed to 42."
   ]
  },
  {
   "cell_type": "code",
   "execution_count": 41,
   "id": "7aa547ec",
   "metadata": {},
   "outputs": [],
   "source": [
    "stochasticgd_clf = SGDClassifier(max_iter=1000, tol=1e-3, random_state=42)\n",
    "stochasticgd_clf.fit(X_train, y_train)\n",
    "y_pred = stochasticgd_clf.predict(X_test)\n"
   ]
  },
  {
   "cell_type": "code",
   "execution_count": 42,
   "id": "d8640618",
   "metadata": {},
   "outputs": [
    {
     "data": {
      "text/plain": [
       "0.3125"
      ]
     },
     "execution_count": 42,
     "metadata": {},
     "output_type": "execute_result"
    }
   ],
   "source": [
    "precision = precision_score(y_test, y_pred, pos_label='Yes')\n",
    "precision\n"
   ]
  },
  {
   "cell_type": "code",
   "execution_count": 43,
   "id": "3a569500",
   "metadata": {},
   "outputs": [
    {
     "data": {
      "text/plain": [
       "0.0847457627118644"
      ]
     },
     "execution_count": 43,
     "metadata": {},
     "output_type": "execute_result"
    }
   ],
   "source": [
    "recall = recall_score(y_test, y_pred, pos_label='Yes')\n",
    "recall"
   ]
  },
  {
   "cell_type": "code",
   "execution_count": 44,
   "id": "2a8c6c8b",
   "metadata": {},
   "outputs": [
    {
     "data": {
      "text/plain": [
       "0.13333333333333333"
      ]
     },
     "execution_count": 44,
     "metadata": {},
     "output_type": "execute_result"
    }
   ],
   "source": [
    "f1score = f1_score(y_test, y_pred, pos_label='Yes')\n",
    "f1score"
   ]
  },
  {
   "cell_type": "markdown",
   "id": "cd492a0b",
   "metadata": {},
   "source": [
    "##### (c) Which classifier finds real patterns in the caravan dataset? The model that has the highest F1 score is the best."
   ]
  },
  {
   "cell_type": "markdown",
   "id": "6d1c301b",
   "metadata": {},
   "source": [
    "The SFD classifier achieves a higher F1 score (0.1333) compared to the KNN classifier with k=5 (0.1081). This suggests that, based on the F1 score, the SFD classifier is a better choice and appears to identify meaningful patterns in the caravan dataset.\n"
   ]
  },
  {
   "cell_type": "code",
   "execution_count": null,
   "id": "15febb07",
   "metadata": {},
   "outputs": [],
   "source": []
  }
 ],
 "metadata": {
  "kernelspec": {
   "display_name": "Python 3 (ipykernel)",
   "language": "python",
   "name": "python3"
  },
  "language_info": {
   "codemirror_mode": {
    "name": "ipython",
    "version": 3
   },
   "file_extension": ".py",
   "mimetype": "text/x-python",
   "name": "python",
   "nbconvert_exporter": "python",
   "pygments_lexer": "ipython3",
   "version": "3.9.13"
  }
 },
 "nbformat": 4,
 "nbformat_minor": 5
}
